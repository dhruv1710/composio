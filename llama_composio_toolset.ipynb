{
 "cells": [
  {
   "cell_type": "code",
   "execution_count": 1,
   "metadata": {},
   "outputs": [
    {
     "name": "stderr",
     "output_type": "stream",
     "text": [
      "/Users/karanvaidya/codes/composio_sdk/venv/lib/python3.11/site-packages/tqdm/auto.py:21: TqdmWarning: IProgress not found. Please update jupyter and ipywidgets. See https://ipywidgets.readthedocs.io/en/stable/user_install.html\n",
      "  from .autonotebook import tqdm as notebook_tqdm\n"
     ]
    },
    {
     "name": "stdout",
     "output_type": "stream",
     "text": [
      "User ID: 3b83e5fd-e71c-493e-a996-1440a38bbc28\n",
      "Fetching tools...\n",
      "Authenticated tools: [{'Name': 'GitHub', 'Description': 'Connect to Github to create and manage issues, pull requests, and more', 'Authentication': {'Type': 'OAuth', 'Scopes': ['repo', 'user', 'read:user', 'user:email'], 'isAuthenticated': 'False'}, 'Actions': [{'Id': 'create_repository', 'DisplayName': 'Create Repository', 'Description': 'Create a new repository', 'Signature': {'Input': {'type': 'object', 'properties': {'repository_name': {'type': 'string', 'description': 'The name of the repository'}, 'repository_description': {'type': 'string', 'description': 'A short description of the repository'}}, 'required': []}, 'Output': {'type': 'object', 'properties': {'status': {'type': 'string', 'description': 'The status of the GitHub action'}, 'details': {'type': 'string', 'description': 'Details about the GitHub action execution'}}, 'required': []}}}], 'Triggers': []}]\n",
      "input_params: {'repository_name': {'type': 'string', 'description': 'The name of the repository'}, 'repository_description': {'type': 'string', 'description': 'A short description of the repository'}}\n"
     ]
    }
   ],
   "source": [
    "from llama_composio.lib.composio_toolset import ComposioToolset\n",
    "from llama_index.agent.openai import OpenAIAgent\n",
    "from llama_index.llms.openai import OpenAI\n",
    "from llama_index.core.tools import FunctionTool\n",
    "\n",
    "llm = OpenAI(model=\"gpt-4-turbo-preview\")\n",
    "# Create a new ComposioToolset object\n",
    "\n",
    "composio = ComposioToolset()\n"
   ]
  },
  {
   "cell_type": "code",
   "execution_count": 2,
   "metadata": {},
   "outputs": [
    {
     "data": {
      "text/plain": [
       "ToolMetadata(description='GitHub_create_repository(repository_name: str, repository_description: str) -> Dict[str, Any]\\nCreate a new repository', name='GitHub_create_repository', fn_schema=<class 'pydantic.v1.main.GitHub_create_repository'>)"
      ]
     },
     "execution_count": 2,
     "metadata": {},
     "output_type": "execute_result"
    }
   ],
   "source": [
    "agent = OpenAIAgent.from_tools(composio.to_tool_list(), llm=llm, verbose=True)\n",
    "composio.to_tool_list()[0].metadata"
   ]
  },
  {
   "cell_type": "code",
   "execution_count": 3,
   "metadata": {},
   "outputs": [
    {
     "name": "stdout",
     "output_type": "stream",
     "text": [
      "Added user message to memory: hi, how are you?\n"
     ]
    },
    {
     "data": {
      "text/plain": [
       "AgentChatResponse(response=\"I'm just a computer program, so I don't have feelings, but thanks for asking! How can I assist you today?\", sources=[], source_nodes=[])"
      ]
     },
     "execution_count": 3,
     "metadata": {},
     "output_type": "execute_result"
    }
   ],
   "source": [
    "agent.chat(\"hi, how are you?\")\n"
   ]
  },
  {
   "cell_type": "code",
   "execution_count": 4,
   "metadata": {},
   "outputs": [
    {
     "name": "stdout",
     "output_type": "stream",
     "text": [
      "Added user message to memory: create a repo on github named karan-test\n",
      "=== Calling Function ===\n",
      "Calling function: GitHub_create_repository with args: {\"repository_name\":\"karan-test\",\"repository_description\":\"A test repository created for Karan.\"}\n",
      "Got output: {'execution_details': {'executed': True}, 'response_data': {'status': 'success', 'details': 'GitHub action executed successfully'}}\n",
      "========================\n",
      "\n"
     ]
    },
    {
     "data": {
      "text/plain": [
       "AgentChatResponse(response='The repository named \"karan-test\" has been successfully created on GitHub. It\\'s described as \"A test repository created for Karan.\" Is there anything else you\\'d like to do?', sources=[ToolOutput(content=\"{'execution_details': {'executed': True}, 'response_data': {'status': 'success', 'details': 'GitHub action executed successfully'}}\", tool_name='GitHub_create_repository', raw_input={'args': (), 'kwargs': {'repository_name': 'karan-test', 'repository_description': 'A test repository created for Karan.'}}, raw_output={'execution_details': {'executed': True}, 'response_data': {'status': 'success', 'details': 'GitHub action executed successfully'}})], source_nodes=[])"
      ]
     },
     "execution_count": 4,
     "metadata": {},
     "output_type": "execute_result"
    }
   ],
   "source": [
    "agent.chat(\"create a repo on github named karan-test\")"
   ]
  }
 ],
 "metadata": {
  "kernelspec": {
   "display_name": "venv",
   "language": "python",
   "name": "python3"
  },
  "language_info": {
   "codemirror_mode": {
    "name": "ipython",
    "version": 3
   },
   "file_extension": ".py",
   "mimetype": "text/x-python",
   "name": "python",
   "nbconvert_exporter": "python",
   "pygments_lexer": "ipython3",
   "version": "3.11.7"
  }
 },
 "nbformat": 4,
 "nbformat_minor": 2
}
